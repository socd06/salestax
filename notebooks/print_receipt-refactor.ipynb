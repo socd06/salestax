{
 "cells": [
  {
   "cell_type": "code",
   "execution_count": 18,
   "metadata": {},
   "outputs": [],
   "source": [
    "# regular expressions\n",
    "import re\n",
    "import math"
   ]
  },
  {
   "cell_type": "code",
   "execution_count": 19,
   "metadata": {},
   "outputs": [],
   "source": [
    "filename = \"../test_case3.txt\""
   ]
  },
  {
   "cell_type": "code",
   "execution_count": 20,
   "metadata": {},
   "outputs": [],
   "source": [
    "def read_text(filename):\n",
    "    with open(filename) as f:\n",
    "        content = f.readlines()\n",
    "    # you may also want to remove whitespace characters like `\\n` at the end of each line\n",
    "    content = [x.strip() for x in content] \n",
    "    return content"
   ]
  },
  {
   "cell_type": "code",
   "execution_count": 21,
   "metadata": {},
   "outputs": [],
   "source": [
    "def exempt_words():\n",
    "    # use natural language processing toolkit (nltk)    \n",
    "    from nltk.corpus import wordnet as wn\n",
    "    \n",
    "    # write a list of common food items\n",
    "    food = wn.synset('food.n.02')\n",
    "    food_list = list(set([w for s in food.closure(lambda s:s.hyponyms()) for w in s.lemma_names()]))\n",
    "    more_food = [\"chocolates\"]\n",
    "    food_list = food_list + more_food\n",
    "    \n",
    "    # write a list of medicine items\n",
    "    medicine = wn.synset('medicine.n.02')\n",
    "    med_list = list(set([w for s in medicine.closure(lambda s:s.hyponyms()) for w in s.lemma_names()]))\n",
    "    \n",
    "    # add more keywords to medicine items list\n",
    "    more_meds = [\"pills\", \"headache\",\"heartburn\", \"aspirine\"]\n",
    "    med_list = med_list + more_meds\n",
    "    \n",
    "    # write a list of book related words\n",
    "    book = wn.synset('book.n.01')\n",
    "    books_list = list(set([w for s in book.closure(lambda s:s.hyponyms()) for w in s.lemma_names()]))\n",
    "    \n",
    "    more_books = [\"book\", \"books\", \"BOOK\", \"BOOKS\"]\n",
    "    books_list = books_list + more_books\n",
    "    \n",
    "    exemptions = books_list + med_list + food_list\n",
    "    \n",
    "    return exemptions    "
   ]
  },
  {
   "cell_type": "code",
   "execution_count": 22,
   "metadata": {},
   "outputs": [],
   "source": [
    "# round to nearest 0.05\n",
    "def round_to_next(val, step):\n",
    "    return val - (val % step) + (step if val % step != 0 else 0)"
   ]
  },
  {
   "cell_type": "code",
   "execution_count": 29,
   "metadata": {},
   "outputs": [],
   "source": [
    "def is_exempt(item_description):\n",
    "    \"\"\"\n",
    "    Parameters:\n",
    "        item (list): Item description\n",
    "    \n",
    "    Returns:\n",
    "        (Boolean) True if description contains an exempted word or False otherwise.    \n",
    "    \"\"\"\n",
    "    checks = []\n",
    "    \n",
    "    exemptions = exempt_words()\n",
    "    \n",
    "    # Check if description has any word from the exempt lists\n",
    "    for item in item_description:\n",
    "        if item in exemptions:\n",
    "            checks.append(True)\n",
    "        else:\n",
    "            checks.append(False)\n",
    "    if any(checks) == True:\n",
    "        return True\n",
    "    else: \n",
    "        return False\n",
    "        "
   ]
  },
  {
   "cell_type": "code",
   "execution_count": 30,
   "metadata": {},
   "outputs": [],
   "source": [
    "def tax(text_list):\n",
    "    '''\n",
    "    Parameters:\n",
    "        list of strings with %d %s %f structure\n",
    "        example: \n",
    "            [\"1 book at 12.49\", \"1 music CD at 14.99\", \"1 chocolate bar at 0.85\"]\n",
    "    Returns: \n",
    "        Prints parsed input\n",
    "        prints sales taxes\n",
    "        prints total ammount\n",
    "    '''\n",
    "    \n",
    "    total = 0.0\n",
    "    total_taxes = 0.0\n",
    "    \n",
    "    # regular expression pattern\n",
    "    pattern = \"-?([0-9]\\d*\\.?\\d*)\"\n",
    "    \n",
    "    # loop through elements of list    \n",
    "    for text in text_list:\n",
    "\n",
    "        # Initialize tax percentage variable\n",
    "        tax = 0.0\n",
    "        # Initialize sales tax variable\n",
    "        sales_tax = 0.0\n",
    "\n",
    "        qty = int(re.findall(pattern,text)[0])\n",
    "        price = float(re.findall(pattern,text)[1])\n",
    "        item_match = re.findall(\"[a-zA-Z]+\",text)\n",
    "\n",
    "        # Remove \"at\" from end of string, if neccesary\n",
    "        if \"at\" in item_match:\n",
    "            item_match.pop(len(item_match)-1)\n",
    "\n",
    "        # Compare regex to exempt lists (Books, FOOD, Medical products)\n",
    "        if is_exempt(item_match) == False:            \n",
    "            is_taxable = True            \n",
    "        else:\n",
    "            # for debugging\n",
    "            is_taxable = False\n",
    "\n",
    "        # Import duty tax +5%\n",
    "        if \"imported\" in item_match or \"IMPORTED\" in item_match == True:\n",
    "            is_imported = True            \n",
    "        else:\n",
    "            is_imported = False            \n",
    "            \n",
    "        # Calculate tax %\n",
    "        if is_taxable and is_imported: \n",
    "            tax = 0.15 # 10%    \n",
    "            #print(\"15% tax\", tax) \n",
    "        elif is_taxable: \n",
    "            tax = 0.1 # 10%    \n",
    "            #print(\"10% tax\", tax)            \n",
    "        elif is_imported:\n",
    "            tax = 0.05 # Add 5% to item tax\n",
    "            #print(\"5% tax\", tax)\n",
    "        else:\n",
    "            # for debugging\n",
    "            tax = 0\n",
    "            #print(\"Tax exempt\",tax)\n",
    "            \n",
    "        # Calculate sales tax\n",
    "        sales_tax = round_to_next(tax * price,0.05)\n",
    "        total_taxes += sales_tax\n",
    "        #print(\"taxes\", total_taxes)\n",
    "                \n",
    "        taxed_price = price + sales_tax\n",
    "        #print(\"taxed price\", taxed_price)\n",
    "                \n",
    "        taxed_price = taxed_price\n",
    "        \n",
    "        total += qty * taxed_price\n",
    "\n",
    "        # Join item description using list comprehension\n",
    "        item_description = \" \".join(map(str, item_match))\n",
    "    \n",
    "        # print parsed item information\n",
    "        print(f'{qty:.0f} {item_description}: {taxed_price:.2f}')\n",
    "    \n",
    "    #total_taxes = round_nearest(total_taxes, 0.05)\n",
    "    \n",
    "    print(f'Sales Taxes: {total_taxes:.2f}')\n",
    "    print(f'Total: {total:.2f}')\n",
    "        "
   ]
  },
  {
   "cell_type": "code",
   "execution_count": 31,
   "metadata": {},
   "outputs": [],
   "source": [
    "filename = \"../test_case3.txt\""
   ]
  },
  {
   "cell_type": "code",
   "execution_count": 32,
   "metadata": {},
   "outputs": [],
   "source": [
    "content = read_text(filename)"
   ]
  },
  {
   "cell_type": "code",
   "execution_count": 34,
   "metadata": {},
   "outputs": [
    {
     "name": "stdout",
     "output_type": "stream",
     "text": [
      "1 imported bottle of perfume: 32.19\n",
      "1 bottle of perfume: 20.89\n",
      "1 packet of headache pills: 9.75\n",
      "1 box of imported chocolates: 11.85\n",
      "Sales Taxes: 6.70\n",
      "Total: 74.68\n"
     ]
    }
   ],
   "source": [
    "tax(content)"
   ]
  },
  {
   "cell_type": "code",
   "execution_count": null,
   "metadata": {},
   "outputs": [],
   "source": []
  }
 ],
 "metadata": {
  "kernelspec": {
   "display_name": "Python 3",
   "language": "python",
   "name": "python3"
  },
  "language_info": {
   "codemirror_mode": {
    "name": "ipython",
    "version": 3
   },
   "file_extension": ".py",
   "mimetype": "text/x-python",
   "name": "python",
   "nbconvert_exporter": "python",
   "pygments_lexer": "ipython3",
   "version": "3.8.3"
  }
 },
 "nbformat": 4,
 "nbformat_minor": 4
}
