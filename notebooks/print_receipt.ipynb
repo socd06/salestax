{
 "cells": [
  {
   "cell_type": "code",
   "execution_count": 1,
   "metadata": {},
   "outputs": [],
   "source": [
    "# regular expressions\n",
    "import re\n",
    "import math"
   ]
  },
  {
   "cell_type": "code",
   "execution_count": 2,
   "metadata": {},
   "outputs": [],
   "source": [
    "# use natural language processing toolkit (nltk)\n",
    "# write a list of common food items\n",
    "from nltk.corpus import wordnet as wn\n",
    "food = wn.synset('food.n.02')\n",
    "food_list = list(set([w for s in food.closure(lambda s:s.hyponyms()) for w in s.lemma_names()]))"
   ]
  },
  {
   "cell_type": "code",
   "execution_count": 3,
   "metadata": {},
   "outputs": [],
   "source": [
    "# write a list of medicine items\n",
    "medicine = wn.synset('medicine.n.02')\n",
    "med_list = list(set([w for s in medicine.closure(lambda s:s.hyponyms()) for w in s.lemma_names()]))"
   ]
  },
  {
   "cell_type": "code",
   "execution_count": 4,
   "metadata": {},
   "outputs": [],
   "source": [
    "# add more keywords to medicine items list\n",
    "more_meds = [\"pills\", \"headache\",\"heartburn\", \"aspirine\"]\n",
    "med_list = med_list + more_meds"
   ]
  },
  {
   "cell_type": "code",
   "execution_count": 5,
   "metadata": {},
   "outputs": [],
   "source": [
    "# write a list of book related words\n",
    "book = wn.synset('book.n.01')\n",
    "books_list = list(set([w for s in book.closure(lambda s:s.hyponyms()) for w in s.lemma_names()]))"
   ]
  },
  {
   "cell_type": "code",
   "execution_count": 6,
   "metadata": {},
   "outputs": [],
   "source": [
    "more_books = [\"book\", \"books\", \"BOOK\", \"BOOKS\"]\n",
    "books_list = books_list + more_books"
   ]
  },
  {
   "cell_type": "code",
   "execution_count": 7,
   "metadata": {},
   "outputs": [],
   "source": [
    "# round to nearest 0.05\n",
    "def round_nearest(x, a):\n",
    "    return round(round(x / a) * a, -int(math.floor(math.log10(a))))"
   ]
  },
  {
   "cell_type": "code",
   "execution_count": 8,
   "metadata": {},
   "outputs": [],
   "source": [
    "def is_exempt(item_description):\n",
    "    \"\"\"\n",
    "    Parameters:\n",
    "        item (list): Item description\n",
    "    \n",
    "    Returns:\n",
    "        (Boolean) True if description contains an exempted word or False otherwise.    \n",
    "    \"\"\"\n",
    "    # TODO: Check if description has any word from the medicine list\n",
    "    for item in item_description:\n",
    "        if item in med_list or item in food_list or item in books_list:\n",
    "            return True\n",
    "        else:\n",
    "            return False"
   ]
  },
  {
   "cell_type": "code",
   "execution_count": 86,
   "metadata": {},
   "outputs": [],
   "source": [
    "def tax(text_list):\n",
    "    '''\n",
    "    Parameters:\n",
    "        list of strings with %d %s %f structure\n",
    "        example: \n",
    "            [\"1 book at 12.49\", \"1 music CD at 14.99\", \"1 chocolate bar at 0.85\"]\n",
    "    Returns: \n",
    "        Prints parsed input\n",
    "        prints sales taxes\n",
    "        prints total ammount\n",
    "    '''\n",
    "    \n",
    "    total = 0.0\n",
    "    total_taxes = 0.0\n",
    "    \n",
    "    # regular expression pattern\n",
    "    pattern = \"-?([0-9]\\d*\\.?\\d*)\"\n",
    "    \n",
    "    # TODO: loop through elements of list\n",
    "    \n",
    "    for text in text_list:\n",
    "\n",
    "        # Initialize tax percentage variable\n",
    "        tax = 0.0\n",
    "        # Initialize sales tax variable\n",
    "        sales_tax = 0.0\n",
    "\n",
    "        qty = int(re.findall(pattern,text)[0])\n",
    "        price = float(re.findall(pattern,text)[1])\n",
    "        item_match = re.findall(\"[a-zA-Z]+\",text)\n",
    "\n",
    "        # Remove \"at\" from end of string, if neccesary\n",
    "        if \"at\" in item_match:\n",
    "            item_match.pop(len(item_match)-1)\n",
    "\n",
    "        # Compare regex to exempt lists (Books, FOOD, Medical products)\n",
    "        if is_exempt(item_match) == False:\n",
    "            tax += 0.1 # 10%    \n",
    "        else:\n",
    "            # for debugging\n",
    "            print(\"tax exempt\")\n",
    "\n",
    "        # Import duty tax +5%\n",
    "        if \"imported\" in item_match or \"IMPORTED\" in item_match == True:\n",
    "            tax += 0.05 # Add 5% to item tax\n",
    "\n",
    "        # TODO: Calculate sales tax\n",
    "        sales_tax = round_nearest(tax * price, 0.05)\n",
    "        total_taxes += sales_tax\n",
    "                \n",
    "        taxed_price = price + sales_tax\n",
    "                \n",
    "        taxed_price = round(taxed_price, 2)\n",
    "        \n",
    "        total += round(qty * taxed_price, 2)\n",
    "\n",
    "        # Join item description using list comprehension\n",
    "        item_description = \" \".join(map(str, item_match))\n",
    "    \n",
    "        # print parsed item information\n",
    "        print(f'{qty:.0f} {item_description}: {taxed_price:.2f}')\n",
    "        #f'{n:.2f} Celsius'\n",
    "    \n",
    "    print(f'Sales Taxes: {total_taxes:.2f}')\n",
    "    print(\"Total:\", total)\n",
    "        "
   ]
  },
  {
   "cell_type": "code",
   "execution_count": 87,
   "metadata": {},
   "outputs": [],
   "source": [
    "text = [\"1 book at 12.49\", \"1 music CD at 14.99\", \"1 chocolate bar at 0.85\"]"
   ]
  },
  {
   "cell_type": "code",
   "execution_count": 88,
   "metadata": {},
   "outputs": [
    {
     "name": "stdout",
     "output_type": "stream",
     "text": [
      "tax exempt\n",
      "1 book: 12.49\n",
      "1 music CD: 16.49\n",
      "tax exempt\n",
      "1 chocolate bar: 0.85\n",
      "Sales Taxes: 1.50\n",
      "Total: 29.83\n"
     ]
    }
   ],
   "source": [
    "tax(text)"
   ]
  },
  {
   "cell_type": "code",
   "execution_count": null,
   "metadata": {},
   "outputs": [],
   "source": []
  }
 ],
 "metadata": {
  "kernelspec": {
   "display_name": "Python 3",
   "language": "python",
   "name": "python3"
  },
  "language_info": {
   "codemirror_mode": {
    "name": "ipython",
    "version": 3
   },
   "file_extension": ".py",
   "mimetype": "text/x-python",
   "name": "python",
   "nbconvert_exporter": "python",
   "pygments_lexer": "ipython3",
   "version": "3.8.3"
  }
 },
 "nbformat": 4,
 "nbformat_minor": 4
}
